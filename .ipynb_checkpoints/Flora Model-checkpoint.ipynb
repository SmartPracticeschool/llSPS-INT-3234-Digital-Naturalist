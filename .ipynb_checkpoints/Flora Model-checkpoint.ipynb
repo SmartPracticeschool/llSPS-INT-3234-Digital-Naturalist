{
 "cells": [
  {
   "cell_type": "code",
   "execution_count": 13,
   "metadata": {},
   "outputs": [],
   "source": [
    "from keras.models import Sequential\n",
    "from keras.layers import Convolution2D\n",
    "from keras.layers import MaxPooling2D\n",
    "from keras.layers import Flatten\n",
    "from keras.layers import Dense\n",
    "from PIL import ImageFile\n",
    "ImageFile.LOAD_TRUNCATED_IMAGES = True"
   ]
  },
  {
   "cell_type": "code",
   "execution_count": 14,
   "metadata": {},
   "outputs": [],
   "source": [
    "from keras.preprocessing.image import ImageDataGenerator\n",
    "train_datagen = ImageDataGenerator(rescale = 1./255,shear_range = 0.2,zoom_range = 0.2,horizontal_flip = True)\n",
    "test_datagen = ImageDataGenerator(rescale = 1./255)"
   ]
  },
  {
   "cell_type": "code",
   "execution_count": 15,
   "metadata": {},
   "outputs": [
    {
     "name": "stdout",
     "output_type": "stream",
     "text": [
      "Found 10420 images belonging to 46 classes.\n",
      "Found 6647 images belonging to 46 classes.\n"
     ]
    }
   ],
   "source": [
    "x_train=train_datagen.flow_from_directory(r\"train\",target_size=(64,64),batch_size=32)\n",
    "x_test=test_datagen.flow_from_directory(r\"test\",target_size=(64,64),batch_size=32)"
   ]
  },
  {
   "cell_type": "code",
   "execution_count": 16,
   "metadata": {},
   "outputs": [
    {
     "data": {
      "text/plain": [
       "{'BEAR': 0,\n",
       " 'Banana': 1,\n",
       " 'CHEETAH': 2,\n",
       " 'COW': 3,\n",
       " 'CROCODILES': 4,\n",
       " 'Chamomile': 5,\n",
       " 'DEER': 6,\n",
       " 'DOGS': 7,\n",
       " 'Daffodil_flower': 8,\n",
       " 'ELEPHANT': 9,\n",
       " 'GIRAFFE': 10,\n",
       " 'GOAT': 11,\n",
       " 'HIPPOPOTAMUS': 12,\n",
       " 'HORSE': 13,\n",
       " 'KANGAROO': 14,\n",
       " 'LION': 15,\n",
       " 'Lisianthus_flower': 16,\n",
       " 'MONKEY': 17,\n",
       " 'OSTRICH': 18,\n",
       " 'PENGUINS': 19,\n",
       " 'Protea': 20,\n",
       " 'Purple_Deadnettle_flower': 21,\n",
       " 'RABBIT': 22,\n",
       " 'RHINO': 23,\n",
       " 'Rose_hips': 24,\n",
       " 'TIGER': 25,\n",
       " 'aloe_vera': 26,\n",
       " 'coconut_': 27,\n",
       " 'daisy': 28,\n",
       " 'downy_yellow_violet': 29,\n",
       " 'elderberry_flower': 30,\n",
       " 'fireweed_flower': 31,\n",
       " 'forget_me_not': 32,\n",
       " 'iris_flower': 33,\n",
       " 'jasmine_flower': 34,\n",
       " 'lily_flower': 35,\n",
       " 'lotus_flower': 36,\n",
       " 'mushroom': 37,\n",
       " 'oleander_flower': 38,\n",
       " 'orchid_flower': 39,\n",
       " 'red-hot_poker': 40,\n",
       " 'red_clover': 41,\n",
       " 'red_rose': 42,\n",
       " 'sunflower': 43,\n",
       " 'teasel_flower': 44,\n",
       " 'touch_me_not_flower': 45}"
      ]
     },
     "execution_count": 16,
     "metadata": {},
     "output_type": "execute_result"
    }
   ],
   "source": [
    "x_train.class_indices"
   ]
  },
  {
   "cell_type": "code",
   "execution_count": 17,
   "metadata": {},
   "outputs": [],
   "source": [
    "model=Sequential()"
   ]
  },
  {
   "cell_type": "code",
   "execution_count": 18,
   "metadata": {},
   "outputs": [],
   "source": [
    "model.add(Convolution2D(32,(3,3),input_shape=(64,64,3),activation=\"relu\"))"
   ]
  },
  {
   "cell_type": "code",
   "execution_count": 19,
   "metadata": {},
   "outputs": [],
   "source": [
    "model.add(MaxPooling2D(pool_size=(2,2)))"
   ]
  },
  {
   "cell_type": "code",
   "execution_count": 20,
   "metadata": {},
   "outputs": [],
   "source": [
    "model.add(Flatten())"
   ]
  },
  {
   "cell_type": "code",
   "execution_count": 21,
   "metadata": {},
   "outputs": [
    {
     "name": "stderr",
     "output_type": "stream",
     "text": [
      "c:\\users\\senthilmurugan\\appdata\\local\\programs\\python\\python36\\lib\\site-packages\\ipykernel_launcher.py:1: UserWarning: Update your `Dense` call to the Keras 2 API: `Dense(units=128, activation=\"relu\", kernel_initializer=\"uniform\")`\n",
      "  \"\"\"Entry point for launching an IPython kernel.\n"
     ]
    }
   ],
   "source": [
    "model.add(Dense(units=128,init=\"uniform\",activation=\"relu\"))"
   ]
  },
  {
   "cell_type": "code",
   "execution_count": 22,
   "metadata": {},
   "outputs": [
    {
     "name": "stderr",
     "output_type": "stream",
     "text": [
      "c:\\users\\senthilmurugan\\appdata\\local\\programs\\python\\python36\\lib\\site-packages\\ipykernel_launcher.py:1: UserWarning: Update your `Dense` call to the Keras 2 API: `Dense(units=46, activation=\"softmax\", kernel_initializer=\"uniform\")`\n",
      "  \"\"\"Entry point for launching an IPython kernel.\n"
     ]
    }
   ],
   "source": [
    "model.add(Dense(units=46,init=\"uniform\",activation=\"softmax\"))"
   ]
  },
  {
   "cell_type": "code",
   "execution_count": 23,
   "metadata": {},
   "outputs": [],
   "source": [
    "model.compile(loss = \"categorical_crossentropy\",optimizer = \"adam\",metrics = [\"accuracy\"])"
   ]
  },
  {
   "cell_type": "code",
   "execution_count": null,
   "metadata": {},
   "outputs": [
    {
     "name": "stdout",
     "output_type": "stream",
     "text": [
      "Epoch 1/10\n",
      "200/326 [=================>............] - ETA: 2:39 - loss: 3.5183 - acc: 0.1058"
     ]
    },
    {
     "name": "stderr",
     "output_type": "stream",
     "text": [
      "c:\\users\\senthilmurugan\\appdata\\local\\programs\\python\\python36\\lib\\site-packages\\PIL\\TiffImagePlugin.py:804: UserWarning: Corrupt EXIF data.  Expecting to read 4 bytes but only got 0. \n",
      "  warnings.warn(str(msg))\n"
     ]
    },
    {
     "name": "stdout",
     "output_type": "stream",
     "text": [
      "326/326 [==============================] - 847s 3s/step - loss: 3.3454 - acc: 0.1339 - val_loss: 2.9312 - val_acc: 0.1808\n",
      "Epoch 2/10\n",
      " 24/326 [=>............................] - ETA: 4:25 - loss: 2.9127 - acc: 0.2109"
     ]
    }
   ],
   "source": [
    "model.fit_generator(x_train, steps_per_epoch =326 ,validation_data = x_test,validation_steps =208 ,epochs = 10)"
   ]
  },
  {
   "cell_type": "code",
   "execution_count": null,
   "metadata": {},
   "outputs": [],
   "source": []
  }
 ],
 "metadata": {
  "kernelspec": {
   "display_name": "Python 3",
   "language": "python",
   "name": "python3"
  },
  "language_info": {
   "codemirror_mode": {
    "name": "ipython",
    "version": 3
   },
   "file_extension": ".py",
   "mimetype": "text/x-python",
   "name": "python",
   "nbconvert_exporter": "python",
   "pygments_lexer": "ipython3",
   "version": "3.6.1"
  }
 },
 "nbformat": 4,
 "nbformat_minor": 4
}
