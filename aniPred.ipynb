{
 "cells": [
  {
   "cell_type": "code",
   "execution_count": 107,
   "metadata": {},
   "outputs": [],
   "source": [
    "from keras.models import load_model\n",
    "from keras.preprocessing import image"
   ]
  },
  {
   "cell_type": "code",
   "execution_count": 108,
   "metadata": {},
   "outputs": [],
   "source": [
    "model=load_model(\"AniPlant.h5\")"
   ]
  },
  {
   "cell_type": "code",
   "execution_count": 120,
   "metadata": {},
   "outputs": [],
   "source": [
    "img = image.load_img(r\"cow.png\",target_size = (64,64))"
   ]
  },
  {
   "cell_type": "code",
   "execution_count": 121,
   "metadata": {},
   "outputs": [],
   "source": [
    "import numpy as np"
   ]
  },
  {
   "cell_type": "code",
   "execution_count": 122,
   "metadata": {},
   "outputs": [],
   "source": [
    "x=image.img_to_array(img)\n",
    "x=np.expand_dims(x,axis=0)"
   ]
  },
  {
   "cell_type": "code",
   "execution_count": 123,
   "metadata": {},
   "outputs": [],
   "source": [
    "something={'BEAR': 0,\n",
    " 'Banana': 1,\n",
    " 'CHEETAH': 2,\n",
    " 'COW': 3,\n",
    " 'CROCODILES': 4,\n",
    " 'Chamomile': 5,\n",
    " 'DEER': 6,\n",
    " 'DOGS': 7,\n",
    " 'Daffodil_flower': 8,\n",
    " 'ELEPHANT': 9,\n",
    " 'GIRAFFE': 10,\n",
    " 'GOAT': 11,\n",
    " 'HIPPOPOTAMUS': 12,\n",
    " 'HORSE': 13,\n",
    " 'KANGAROO': 14,\n",
    " 'LION': 15,\n",
    " 'Lisianthus_flower': 16,\n",
    " 'MONKEY': 17,\n",
    " 'OSTRICH': 18,\n",
    " 'PENGUINS': 19,\n",
    " 'Protea': 20,\n",
    " 'Purple_Deadnettle_flower': 21,\n",
    " 'RABBIT': 22,\n",
    " 'RHINO': 23,\n",
    " 'Rose_hips': 24,\n",
    " 'TIGER': 25,\n",
    " 'aloe_vera': 26,\n",
    " 'coconut_': 27,\n",
    " 'daisy': 28,\n",
    " 'downy_yellow_violet': 29,\n",
    " 'elderberry_flower': 30,\n",
    " 'fireweed_flower': 31,\n",
    " 'forget_me_not': 32,\n",
    " 'iris_flower': 33,\n",
    " 'jasmine_flower': 34,\n",
    " 'lily_flower': 35,\n",
    " 'lotus_flower': 36,\n",
    " 'mushroom': 37,\n",
    " 'oleander_flower': 38,\n",
    " 'orchid_flower': 39,\n",
    " 'red-hot_poker': 40,\n",
    " 'red_clover': 41,\n",
    " 'red_rose': 42,\n",
    " 'sunflower': 43,\n",
    " 'teasel_flower': 44,\n",
    " 'touch_me_not_flower': 45}"
   ]
  },
  {
   "cell_type": "code",
   "execution_count": 124,
   "metadata": {},
   "outputs": [],
   "source": [
    "ypred=model.predict_classes(x)"
   ]
  },
  {
   "cell_type": "code",
   "execution_count": 125,
   "metadata": {},
   "outputs": [
    {
     "name": "stdout",
     "output_type": "stream",
     "text": [
      "3\n"
     ]
    }
   ],
   "source": [
    "print(ypred[0])"
   ]
  },
  {
   "cell_type": "code",
   "execution_count": 117,
   "metadata": {},
   "outputs": [
    {
     "name": "stdout",
     "output_type": "stream",
     "text": [
      "ELEPHANT\n"
     ]
    }
   ],
   "source": [
    "for i,j in something.items():\n",
    "    if j == ypred[0]:\n",
    "        print(i)\n",
    "        "
   ]
  },
  {
   "cell_type": "code",
   "execution_count": 115,
   "metadata": {},
   "outputs": [],
   "source": [
    "l=list(something.keys())"
   ]
  },
  {
   "cell_type": "code",
   "execution_count": 116,
   "metadata": {},
   "outputs": [],
   "source": [
    "f=open('labelss.txt','w')\n",
    "for ele in l:\n",
    "    f.write(ele+'\\n')\n",
    "\n",
    "f.close()"
   ]
  },
  {
   "cell_type": "code",
   "execution_count": null,
   "metadata": {},
   "outputs": [],
   "source": []
  }
 ],
 "metadata": {
  "kernelspec": {
   "display_name": "Python 3",
   "language": "python",
   "name": "python3"
  },
  "language_info": {
   "codemirror_mode": {
    "name": "ipython",
    "version": 3
   },
   "file_extension": ".py",
   "mimetype": "text/x-python",
   "name": "python",
   "nbconvert_exporter": "python",
   "pygments_lexer": "ipython3",
   "version": "3.6.1"
  }
 },
 "nbformat": 4,
 "nbformat_minor": 4
}
