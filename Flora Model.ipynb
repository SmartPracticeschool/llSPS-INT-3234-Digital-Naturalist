{
 "cells": [
  {
   "cell_type": "code",
   "execution_count": 27,
   "metadata": {},
   "outputs": [],
   "source": [
    "from keras.models import Sequential\n",
    "from keras.layers import Convolution2D\n",
    "from keras.layers import MaxPooling2D\n",
    "from keras.layers import Flatten\n",
    "from keras.layers import Dense\n",
    "from PIL import ImageFile\n",
    "ImageFile.LOAD_TRUNCATED_IMAGES = True"
   ]
  },
  {
   "cell_type": "code",
   "execution_count": 28,
   "metadata": {},
   "outputs": [],
   "source": [
    "from keras.preprocessing.image import ImageDataGenerator\n",
    "train_datagen = ImageDataGenerator(rescale = 1./255,shear_range = 0.2,zoom_range = 0.2,horizontal_flip = True)\n",
    "test_datagen = ImageDataGenerator(rescale = 1./255)"
   ]
  },
  {
   "cell_type": "code",
   "execution_count": 29,
   "metadata": {},
   "outputs": [
    {
     "name": "stdout",
     "output_type": "stream",
     "text": [
      "Found 10420 images belonging to 46 classes.\n",
      "Found 6647 images belonging to 46 classes.\n"
     ]
    }
   ],
   "source": [
    "x_train=train_datagen.flow_from_directory(r\"train\",target_size=(64,64),batch_size=32)\n",
    "x_test=test_datagen.flow_from_directory(r\"test\",target_size=(64,64),batch_size=32)"
   ]
  },
  {
   "cell_type": "code",
   "execution_count": 30,
   "metadata": {},
   "outputs": [
    {
     "data": {
      "text/plain": [
       "{'BEAR': 0,\n",
       " 'Banana': 1,\n",
       " 'CHEETAH': 2,\n",
       " 'COW': 3,\n",
       " 'CROCODILES': 4,\n",
       " 'Chamomile': 5,\n",
       " 'DEER': 6,\n",
       " 'DOGS': 7,\n",
       " 'Daffodil_flower': 8,\n",
       " 'ELEPHANT': 9,\n",
       " 'GIRAFFE': 10,\n",
       " 'GOAT': 11,\n",
       " 'HIPPOPOTAMUS': 12,\n",
       " 'HORSE': 13,\n",
       " 'KANGAROO': 14,\n",
       " 'LION': 15,\n",
       " 'Lisianthus_flower': 16,\n",
       " 'MONKEY': 17,\n",
       " 'OSTRICH': 18,\n",
       " 'PENGUINS': 19,\n",
       " 'Protea': 20,\n",
       " 'Purple_Deadnettle_flower': 21,\n",
       " 'RABBIT': 22,\n",
       " 'RHINO': 23,\n",
       " 'Rose_hips': 24,\n",
       " 'TIGER': 25,\n",
       " 'aloe_vera': 26,\n",
       " 'coconut_': 27,\n",
       " 'daisy': 28,\n",
       " 'downy_yellow_violet': 29,\n",
       " 'elderberry_flower': 30,\n",
       " 'fireweed_flower': 31,\n",
       " 'forget_me_not': 32,\n",
       " 'iris_flower': 33,\n",
       " 'jasmine_flower': 34,\n",
       " 'lily_flower': 35,\n",
       " 'lotus_flower': 36,\n",
       " 'mushroom': 37,\n",
       " 'oleander_flower': 38,\n",
       " 'orchid_flower': 39,\n",
       " 'red-hot_poker': 40,\n",
       " 'red_clover': 41,\n",
       " 'red_rose': 42,\n",
       " 'sunflower': 43,\n",
       " 'teasel_flower': 44,\n",
       " 'touch_me_not_flower': 45}"
      ]
     },
     "execution_count": 30,
     "metadata": {},
     "output_type": "execute_result"
    }
   ],
   "source": [
    "x_train.class_indices"
   ]
  },
  {
   "cell_type": "code",
   "execution_count": 31,
   "metadata": {},
   "outputs": [],
   "source": [
    "model=Sequential()"
   ]
  },
  {
   "cell_type": "code",
   "execution_count": 32,
   "metadata": {},
   "outputs": [],
   "source": [
    "model.add(Convolution2D(32,(3,3),input_shape=(64,64,3),activation=\"relu\"))"
   ]
  },
  {
   "cell_type": "code",
   "execution_count": 33,
   "metadata": {},
   "outputs": [],
   "source": [
    "model.add(MaxPooling2D(pool_size=(2,2)))"
   ]
  },
  {
   "cell_type": "code",
   "execution_count": 34,
   "metadata": {},
   "outputs": [],
   "source": [
    "model.add(Flatten())"
   ]
  },
  {
   "cell_type": "code",
   "execution_count": 35,
   "metadata": {},
   "outputs": [
    {
     "name": "stderr",
     "output_type": "stream",
     "text": [
      "c:\\users\\senthilmurugan\\appdata\\local\\programs\\python\\python36\\lib\\site-packages\\ipykernel_launcher.py:1: UserWarning: Update your `Dense` call to the Keras 2 API: `Dense(units=128, activation=\"relu\", kernel_initializer=\"uniform\")`\n",
      "  \"\"\"Entry point for launching an IPython kernel.\n"
     ]
    }
   ],
   "source": [
    "model.add(Dense(units=128,init=\"uniform\",activation=\"relu\"))"
   ]
  },
  {
   "cell_type": "code",
   "execution_count": 36,
   "metadata": {},
   "outputs": [
    {
     "name": "stderr",
     "output_type": "stream",
     "text": [
      "c:\\users\\senthilmurugan\\appdata\\local\\programs\\python\\python36\\lib\\site-packages\\ipykernel_launcher.py:1: UserWarning: Update your `Dense` call to the Keras 2 API: `Dense(units=46, activation=\"softmax\", kernel_initializer=\"uniform\")`\n",
      "  \"\"\"Entry point for launching an IPython kernel.\n"
     ]
    }
   ],
   "source": [
    "model.add(Dense(units=46,init=\"uniform\",activation=\"softmax\"))"
   ]
  },
  {
   "cell_type": "code",
   "execution_count": 37,
   "metadata": {},
   "outputs": [],
   "source": [
    "model.compile(loss = \"categorical_crossentropy\",optimizer = \"adam\",metrics = [\"accuracy\"])"
   ]
  },
  {
   "cell_type": "code",
   "execution_count": 38,
   "metadata": {},
   "outputs": [
    {
     "name": "stdout",
     "output_type": "stream",
     "text": [
      "Epoch 1/80\n",
      "145/326 [============>.................] - ETA: 4:51 - loss: 3.4755 - acc: 0.1155"
     ]
    },
    {
     "name": "stderr",
     "output_type": "stream",
     "text": [
      "c:\\users\\senthilmurugan\\appdata\\local\\programs\\python\\python36\\lib\\site-packages\\PIL\\TiffImagePlugin.py:804: UserWarning: Corrupt EXIF data.  Expecting to read 4 bytes but only got 0. \n",
      "  warnings.warn(str(msg))\n"
     ]
    },
    {
     "name": "stdout",
     "output_type": "stream",
     "text": [
      "326/326 [==============================] - 881s 3s/step - loss: 3.1845 - acc: 0.1639 - val_loss: 2.7390 - val_acc: 0.2154\n",
      "Epoch 2/80\n",
      "326/326 [==============================] - 788s 2s/step - loss: 2.6145 - acc: 0.2763 - val_loss: 2.6619 - val_acc: 0.2443\n",
      "Epoch 3/80\n",
      "326/326 [==============================] - 800s 2s/step - loss: 2.4062 - acc: 0.3253 - val_loss: 2.5117 - val_acc: 0.2959\n",
      "Epoch 4/80\n",
      "326/326 [==============================] - 863s 3s/step - loss: 2.2439 - acc: 0.3681 - val_loss: 2.3107 - val_acc: 0.3400\n",
      "Epoch 5/80\n",
      "326/326 [==============================] - 808s 2s/step - loss: 2.1594 - acc: 0.3913 - val_loss: 2.2629 - val_acc: 0.3582\n",
      "Epoch 6/80\n",
      "326/326 [==============================] - 851s 3s/step - loss: 2.0656 - acc: 0.4156 - val_loss: 2.1941 - val_acc: 0.3866\n",
      "Epoch 7/80\n",
      "326/326 [==============================] - 837s 3s/step - loss: 1.9913 - acc: 0.4274 - val_loss: 2.1120 - val_acc: 0.3918\n",
      "Epoch 8/80\n",
      "326/326 [==============================] - 850s 3s/step - loss: 1.9219 - acc: 0.4510 - val_loss: 1.9682 - val_acc: 0.4391\n",
      "Epoch 9/80\n",
      "326/326 [==============================] - 791s 2s/step - loss: 1.8652 - acc: 0.4637 - val_loss: 1.9579 - val_acc: 0.4455\n",
      "Epoch 10/80\n",
      "326/326 [==============================] - 836s 3s/step - loss: 1.8144 - acc: 0.4735 - val_loss: 1.8787 - val_acc: 0.4506\n",
      "Epoch 11/80\n",
      "326/326 [==============================] - 771s 2s/step - loss: 1.7607 - acc: 0.4888 - val_loss: 1.8797 - val_acc: 0.4679\n",
      "Epoch 12/80\n",
      "326/326 [==============================] - 790s 2s/step - loss: 1.7260 - acc: 0.4970 - val_loss: 1.7594 - val_acc: 0.5040\n",
      "Epoch 13/80\n",
      "326/326 [==============================] - 793s 2s/step - loss: 1.6720 - acc: 0.5139 - val_loss: 1.7528 - val_acc: 0.4969\n",
      "Epoch 14/80\n",
      "326/326 [==============================] - 807s 2s/step - loss: 1.6445 - acc: 0.5147 - val_loss: 1.6018 - val_acc: 0.5383\n",
      "Epoch 15/80\n",
      "326/326 [==============================] - 802s 2s/step - loss: 1.5839 - acc: 0.5393 - val_loss: 1.8138 - val_acc: 0.4944\n",
      "Epoch 16/80\n",
      "326/326 [==============================] - 779s 2s/step - loss: 1.5574 - acc: 0.5418 - val_loss: 1.5961 - val_acc: 0.5487\n",
      "Epoch 17/80\n",
      "326/326 [==============================] - 808s 2s/step - loss: 1.5054 - acc: 0.5562 - val_loss: 1.4926 - val_acc: 0.5742\n",
      "Epoch 18/80\n",
      "326/326 [==============================] - 794s 2s/step - loss: 1.4804 - acc: 0.5648 - val_loss: 1.4923 - val_acc: 0.5780\n",
      "Epoch 19/80\n",
      "326/326 [==============================] - 758s 2s/step - loss: 1.4431 - acc: 0.5767 - val_loss: 1.4725 - val_acc: 0.5842\n",
      "Epoch 20/80\n",
      "326/326 [==============================] - 788s 2s/step - loss: 1.4302 - acc: 0.5779 - val_loss: 1.4809 - val_acc: 0.5893\n",
      "Epoch 21/80\n",
      "326/326 [==============================] - 771s 2s/step - loss: 1.3961 - acc: 0.5894 - val_loss: 1.5377 - val_acc: 0.5726\n",
      "Epoch 22/80\n",
      "326/326 [==============================] - 776s 2s/step - loss: 1.3782 - acc: 0.5975 - val_loss: 1.4849 - val_acc: 0.5906\n",
      "Epoch 23/80\n",
      "326/326 [==============================] - 826s 3s/step - loss: 1.3313 - acc: 0.6066 - val_loss: 1.6115 - val_acc: 0.5583\n",
      "Epoch 24/80\n",
      "326/326 [==============================] - 802s 2s/step - loss: 1.2944 - acc: 0.6136 - val_loss: 1.4090 - val_acc: 0.6087\n",
      "Epoch 25/80\n",
      "326/326 [==============================] - 750s 2s/step - loss: 1.2637 - acc: 0.6247 - val_loss: 1.4113 - val_acc: 0.6051\n",
      "Epoch 26/80\n",
      "326/326 [==============================] - 718s 2s/step - loss: 1.2503 - acc: 0.6283 - val_loss: 1.5126 - val_acc: 0.5973\n",
      "Epoch 27/80\n",
      "326/326 [==============================] - 662s 2s/step - loss: 1.2250 - acc: 0.6346 - val_loss: 1.3620 - val_acc: 0.6213\n",
      "Epoch 28/80\n",
      "326/326 [==============================] - 620s 2s/step - loss: 1.1874 - acc: 0.6474 - val_loss: 1.2951 - val_acc: 0.6398\n",
      "Epoch 29/80\n",
      "326/326 [==============================] - 537s 2s/step - loss: 1.1632 - acc: 0.6518 - val_loss: 1.3417 - val_acc: 0.6304\n",
      "Epoch 30/80\n",
      "326/326 [==============================] - 486s 1s/step - loss: 1.1516 - acc: 0.6527 - val_loss: 1.3071 - val_acc: 0.6398\n",
      "Epoch 31/80\n",
      "326/326 [==============================] - 491s 2s/step - loss: 1.1172 - acc: 0.6602 - val_loss: 1.2906 - val_acc: 0.6543\n",
      "Epoch 32/80\n",
      "326/326 [==============================] - 477s 1s/step - loss: 1.1081 - acc: 0.6674 - val_loss: 1.2598 - val_acc: 0.6653\n",
      "Epoch 33/80\n",
      "326/326 [==============================] - 698s 2s/step - loss: 1.0732 - acc: 0.6790 - val_loss: 1.1725 - val_acc: 0.6848\n",
      "Epoch 34/80\n",
      "326/326 [==============================] - 771s 2s/step - loss: 1.0491 - acc: 0.6797 - val_loss: 1.2808 - val_acc: 0.6614\n",
      "Epoch 35/80\n",
      "326/326 [==============================] - 798s 2s/step - loss: 1.0279 - acc: 0.6870 - val_loss: 1.1567 - val_acc: 0.6866\n",
      "Epoch 36/80\n",
      "326/326 [==============================] - 854s 3s/step - loss: 0.9897 - acc: 0.6993 - val_loss: 1.3872 - val_acc: 0.6444\n",
      "Epoch 37/80\n",
      "326/326 [==============================] - 919s 3s/step - loss: 0.9844 - acc: 0.7012 - val_loss: 1.1687 - val_acc: 0.6905\n",
      "Epoch 38/80\n",
      "326/326 [==============================] - 928s 3s/step - loss: 0.9832 - acc: 0.7090 - val_loss: 1.1673 - val_acc: 0.7009\n",
      "Epoch 39/80\n",
      "326/326 [==============================] - 962s 3s/step - loss: 0.9557 - acc: 0.7108 - val_loss: 1.3288 - val_acc: 0.6690\n",
      "Epoch 40/80\n",
      "326/326 [==============================] - 1091s 3s/step - loss: 0.9498 - acc: 0.7070 - val_loss: 1.0787 - val_acc: 0.7205\n",
      "Epoch 41/80\n",
      "326/326 [==============================] - 1147s 4s/step - loss: 0.9267 - acc: 0.7189 - val_loss: 1.0385 - val_acc: 0.7316\n",
      "Epoch 42/80\n",
      "326/326 [==============================] - 1094s 3s/step - loss: 0.9167 - acc: 0.7199 - val_loss: 1.2869 - val_acc: 0.6725\n",
      "Epoch 43/80\n",
      "326/326 [==============================] - 894s 3s/step - loss: 0.9120 - acc: 0.7275 - val_loss: 1.2220 - val_acc: 0.6824\n",
      "Epoch 44/80\n",
      "326/326 [==============================] - 922s 3s/step - loss: 0.8917 - acc: 0.7292 - val_loss: 1.1602 - val_acc: 0.7017\n",
      "Epoch 45/80\n",
      "326/326 [==============================] - 1085s 3s/step - loss: 0.8527 - acc: 0.7369 - val_loss: 1.2596 - val_acc: 0.6872\n",
      "Epoch 46/80\n",
      "326/326 [==============================] - 981s 3s/step - loss: 0.8538 - acc: 0.7434 - val_loss: 1.2155 - val_acc: 0.7057\n",
      "Epoch 47/80\n",
      "326/326 [==============================] - 1136s 3s/step - loss: 0.8304 - acc: 0.7457 - val_loss: 1.1902 - val_acc: 0.7035\n",
      "Epoch 48/80\n",
      "326/326 [==============================] - 873s 3s/step - loss: 0.8263 - acc: 0.7467 - val_loss: 1.0757 - val_acc: 0.7328\n",
      "Epoch 49/80\n",
      "326/326 [==============================] - 872s 3s/step - loss: 0.7734 - acc: 0.7588 - val_loss: 1.1427 - val_acc: 0.7130\n",
      "Epoch 50/80\n",
      "326/326 [==============================] - 888s 3s/step - loss: 0.8064 - acc: 0.7520 - val_loss: 1.1356 - val_acc: 0.7193\n",
      "Epoch 51/80\n",
      "326/326 [==============================] - 473s 1s/step - loss: 0.7800 - acc: 0.7627 - val_loss: 1.0965 - val_acc: 0.7357\n",
      "Epoch 52/80\n",
      "326/326 [==============================] - 472s 1s/step - loss: 0.7777 - acc: 0.7615 - val_loss: 0.9596 - val_acc: 0.7730\n",
      "Epoch 53/80\n",
      "326/326 [==============================] - 478s 1s/step - loss: 0.7750 - acc: 0.7590 - val_loss: 1.1427 - val_acc: 0.7206\n",
      "Epoch 54/80\n",
      "326/326 [==============================] - 491s 2s/step - loss: 0.7538 - acc: 0.7667 - val_loss: 0.9330 - val_acc: 0.7794\n",
      "Epoch 55/80\n",
      "326/326 [==============================] - 472s 1s/step - loss: 0.7277 - acc: 0.7780 - val_loss: 1.0555 - val_acc: 0.7512\n",
      "Epoch 56/80\n",
      "326/326 [==============================] - 475s 1s/step - loss: 0.7098 - acc: 0.7820 - val_loss: 0.9313 - val_acc: 0.7886\n",
      "Epoch 57/80\n",
      "326/326 [==============================] - 474s 1s/step - loss: 0.7308 - acc: 0.7738 - val_loss: 1.1472 - val_acc: 0.7280\n",
      "Epoch 58/80\n",
      "326/326 [==============================] - 484s 1s/step - loss: 0.7192 - acc: 0.7792 - val_loss: 1.0263 - val_acc: 0.7628\n",
      "Epoch 59/80\n",
      "326/326 [==============================] - 455s 1s/step - loss: 0.6886 - acc: 0.7882 - val_loss: 0.9589 - val_acc: 0.7731\n",
      "Epoch 60/80\n",
      "326/326 [==============================] - 457s 1s/step - loss: 0.6660 - acc: 0.7930 - val_loss: 1.0535 - val_acc: 0.7584\n",
      "Epoch 61/80\n",
      "326/326 [==============================] - 465s 1s/step - loss: 0.6834 - acc: 0.7875 - val_loss: 0.9765 - val_acc: 0.7819\n",
      "Epoch 62/80\n"
     ]
    },
    {
     "name": "stdout",
     "output_type": "stream",
     "text": [
      "326/326 [==============================] - 481s 1s/step - loss: 0.6564 - acc: 0.8019 - val_loss: 1.0381 - val_acc: 0.7664\n",
      "Epoch 63/80\n",
      "326/326 [==============================] - 496s 2s/step - loss: 0.6573 - acc: 0.8005 - val_loss: 1.1003 - val_acc: 0.7543\n",
      "Epoch 64/80\n",
      "326/326 [==============================] - 471s 1s/step - loss: 0.6529 - acc: 0.7982 - val_loss: 0.9751 - val_acc: 0.7855\n",
      "Epoch 65/80\n",
      "326/326 [==============================] - 474s 1s/step - loss: 0.6255 - acc: 0.8054 - val_loss: 1.1102 - val_acc: 0.7467\n",
      "Epoch 66/80\n",
      "326/326 [==============================] - 468s 1s/step - loss: 0.6483 - acc: 0.8009 - val_loss: 1.0273 - val_acc: 0.7704\n",
      "Epoch 67/80\n",
      "326/326 [==============================] - 452s 1s/step - loss: 0.5925 - acc: 0.8186 - val_loss: 0.8957 - val_acc: 0.8116\n",
      "Epoch 68/80\n",
      "326/326 [==============================] - 491s 2s/step - loss: 0.5906 - acc: 0.8148 - val_loss: 0.9367 - val_acc: 0.7927\n",
      "Epoch 69/80\n",
      "326/326 [==============================] - 481s 1s/step - loss: 0.6025 - acc: 0.8138 - val_loss: 1.0990 - val_acc: 0.7536\n",
      "Epoch 70/80\n",
      "326/326 [==============================] - 465s 1s/step - loss: 0.5968 - acc: 0.8168 - val_loss: 0.8617 - val_acc: 0.8142\n",
      "Epoch 71/80\n",
      "326/326 [==============================] - 479s 1s/step - loss: 0.6021 - acc: 0.8147 - val_loss: 1.0192 - val_acc: 0.7713\n",
      "Epoch 72/80\n",
      "326/326 [==============================] - 484s 1s/step - loss: 0.5750 - acc: 0.8198 - val_loss: 0.9914 - val_acc: 0.7790\n",
      "Epoch 73/80\n",
      "326/326 [==============================] - 498s 2s/step - loss: 0.5667 - acc: 0.8267 - val_loss: 1.0018 - val_acc: 0.7802\n",
      "Epoch 74/80\n",
      "326/326 [==============================] - 460s 1s/step - loss: 0.5672 - acc: 0.8272 - val_loss: 0.8901 - val_acc: 0.8050\n",
      "Epoch 75/80\n",
      "326/326 [==============================] - 475s 1s/step - loss: 0.5528 - acc: 0.8248 - val_loss: 1.1996 - val_acc: 0.7429\n",
      "Epoch 76/80\n",
      "326/326 [==============================] - 475s 1s/step - loss: 0.5908 - acc: 0.8128 - val_loss: 1.0385 - val_acc: 0.7683\n",
      "Epoch 77/80\n",
      "326/326 [==============================] - 471s 1s/step - loss: 0.5326 - acc: 0.8344 - val_loss: 1.0323 - val_acc: 0.7790\n",
      "Epoch 78/80\n",
      "326/326 [==============================] - 490s 2s/step - loss: 0.5445 - acc: 0.8282 - val_loss: 1.0408 - val_acc: 0.7798\n",
      "Epoch 79/80\n",
      "326/326 [==============================] - 469s 1s/step - loss: 0.5195 - acc: 0.8433 - val_loss: 1.0623 - val_acc: 0.7770\n",
      "Epoch 80/80\n",
      "326/326 [==============================] - 478s 1s/step - loss: 0.5147 - acc: 0.8361 - val_loss: 0.9964 - val_acc: 0.7966\n"
     ]
    },
    {
     "data": {
      "text/plain": [
       "<keras.callbacks.History at 0x1fac783def0>"
      ]
     },
     "execution_count": 38,
     "metadata": {},
     "output_type": "execute_result"
    }
   ],
   "source": [
    "model.fit_generator(x_train, steps_per_epoch =326 ,validation_data = x_test,validation_steps =208 ,epochs = 80)"
   ]
  },
  {
   "cell_type": "code",
   "execution_count": 41,
   "metadata": {},
   "outputs": [],
   "source": [
    "model.save('AniPlant.h5')"
   ]
  },
  {
   "cell_type": "code",
   "execution_count": null,
   "metadata": {},
   "outputs": [],
   "source": []
  }
 ],
 "metadata": {
  "kernelspec": {
   "display_name": "Python 3",
   "language": "python",
   "name": "python3"
  },
  "language_info": {
   "codemirror_mode": {
    "name": "ipython",
    "version": 3
   },
   "file_extension": ".py",
   "mimetype": "text/x-python",
   "name": "python",
   "nbconvert_exporter": "python",
   "pygments_lexer": "ipython3",
   "version": "3.6.1"
  }
 },
 "nbformat": 4,
 "nbformat_minor": 4
}
